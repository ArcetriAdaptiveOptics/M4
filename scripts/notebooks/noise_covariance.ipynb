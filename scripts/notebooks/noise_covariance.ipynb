{
 "cells": [
  {
   "cell_type": "code",
   "execution_count": null,
   "metadata": {},
   "outputs": [],
   "source": [
    "from matplotlib import pyplot as plt\n",
    "from m4.mini_OTT import timehistory as th\n",
    "import numpy as np\n",
    "\n",
    "#use noise.convection_noise to estimate the decorrelation time and sample the data accordingly\n",
    "\n",
    "tn='20240521_152923'\n",
    "\n",
    "zv = []\n",
    "q = []\n",
    "fl = th.fileList(tn)\n",
    "for tt in range(1000):\n",
    "    img = th.read_phasemap(fl[tt])\n",
    "    zz, mat =th.zernike.zernikeFit(img, np.arange(9)+1)\n",
    "    q.append(img)\n",
    "    print(tt, zz)\n",
    "    zv.append(zz)\n",
    "\n",
    "zva = np.array(zv)\n",
    "\n",
    "zvb = zva-np.mean(zva, 0)\n",
    "\n",
    "bb= zvb.T @ zvb\n",
    "\n",
    "uu,ss,vv= np.linalg.svd(bb)\n",
    "\n"
   ]
  }
 ],
 "metadata": {
  "language_info": {
   "name": "python"
  }
 },
 "nbformat": 4,
 "nbformat_minor": 2
}
