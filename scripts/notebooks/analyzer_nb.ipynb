{
 "cells": [
  {
   "cell_type": "code",
   "execution_count": 1,
   "metadata": {},
   "outputs": [
    {
     "name": "stdout",
     "output_type": "stream",
     "text": [
      "Using the Python console for data analysis.\n",
      "Base data path is: /Users/marco/work/testdata\n",
      "\n",
      "           |X|_____ _____|X|\n",
      "           |X|           |X|\n",
      "           |X|_____--___<|X|\n",
      "           |X|    |\\  /| |X|\n",
      "     __    |X|    |_\\/_| |X|\n",
      "    |  |   |X|    | /\\ | |X|\n",
      "    |  |   |X|    |/  \\| |X|\n",
      " ___|__|___|X|____ ---- _|X|_____\n"
     ]
    }
   ],
   "source": [
    "myconfig = \"/Users/marco/work/python/GitHub/M4/m4/configuration/myConfig.yaml\"\n",
    "from m4.configuration import analysis_startup\n",
    "from arte.time_series import TimeSeries\n",
    "analysis_startup.start(myconfig)"
   ]
  },
  {
   "cell_type": "code",
   "execution_count": 7,
   "metadata": {},
   "outputs": [
    {
     "data": {
      "text/plain": [
       "'/Users/marco/work/python/GitHub/M4/scripts/notebooks'"
      ]
     },
     "execution_count": 7,
     "metadata": {},
     "output_type": "execute_result"
    }
   ],
   "source": [
    "import os\n",
    "os.getcwd()"
   ]
  },
  {
   "cell_type": "code",
   "execution_count": 9,
   "metadata": {},
   "outputs": [
    {
     "data": {
      "text/plain": [
       "'/Users/marco/work/python/GitHub/M4/.venv'"
      ]
     },
     "execution_count": 9,
     "metadata": {},
     "output_type": "execute_result"
    }
   ],
   "source": [
    "os.environ[\"VIRTUAL_ENV\"]"
   ]
  },
  {
   "cell_type": "code",
   "execution_count": null,
   "metadata": {},
   "outputs": [],
   "source": []
  }
 ],
 "metadata": {
  "kernelspec": {
   "display_name": ".venv",
   "language": "python",
   "name": "python3"
  },
  "language_info": {
   "codemirror_mode": {
    "name": "ipython",
    "version": 3
   },
   "file_extension": ".py",
   "mimetype": "text/x-python",
   "name": "python",
   "nbconvert_exporter": "python",
   "pygments_lexer": "ipython3",
   "version": "3.12.2"
  }
 },
 "nbformat": 4,
 "nbformat_minor": 2
}
