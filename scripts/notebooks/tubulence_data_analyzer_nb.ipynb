{
 "cells": [
  {
   "cell_type": "code",
   "execution_count": 2,
   "metadata": {},
   "outputs": [
    {
     "name": "stdout",
     "output_type": "stream",
     "text": [
      "Current PYOTTCONF:  C:\\Users\\marco\\Documents\\work\\python\\lib\\M4\\m4\\configuration\\labotConfig.yaml\n",
      "Using the Python console for data analysis.\n",
      "Base data path is: D:/M4/\n",
      "\n",
      "           |X|_____ _____|X|\n",
      "           |X|           |X|\n",
      "           |X|_____--___<|X|\n",
      "           |X|    |\\  /| |X|\n",
      "     __    |X|    |_\\/_| |X|\n",
      "    |  |   |X|    | /\\ | |X|\n",
      "    |  |   |X|    |/  \\| |X|\n",
      " ___|__|___|X|____ ---- _|X|_____\n"
     ]
    }
   ],
   "source": [
    "import os\n",
    "\n",
    "from m4.configuration import analysis_startup\n",
    "from arte.time_series.time_series import TimeSeries\n",
    "\n",
    "myconfig = os.getenv(\"PYOTTCONF\")\n",
    "print(\"Current PYOTTCONF: \", myconfig)\n",
    "analysis_startup.start(myconfig)"
   ]
  },
  {
   "cell_type": "code",
   "execution_count": null,
   "metadata": {},
   "outputs": [
    {
     "data": {
      "text/plain": [
       "'/Users/marco/work/python/GitHub/M4/scripts/notebooks'"
      ]
     },
     "execution_count": 7,
     "metadata": {},
     "output_type": "execute_result"
    }
   ],
   "source": [
    "import os\n",
    "os.getcwd()"
   ]
  },
  {
   "cell_type": "code",
   "execution_count": null,
   "metadata": {},
   "outputs": [
    {
     "data": {
      "text/plain": [
       "'/Users/marco/work/python/GitHub/M4/.venv'"
      ]
     },
     "execution_count": 9,
     "metadata": {},
     "output_type": "execute_result"
    }
   ],
   "source": [
    "os.environ[\"VIRTUAL_ENV\"]"
   ]
  },
  {
   "cell_type": "code",
   "execution_count": null,
   "metadata": {},
   "outputs": [],
   "source": []
  }
 ],
 "metadata": {
  "kernelspec": {
   "display_name": ".venv",
   "language": "python",
   "name": "python3"
  },
  "language_info": {
   "codemirror_mode": {
    "name": "ipython",
    "version": 3
   },
   "file_extension": ".py",
   "mimetype": "text/x-python",
   "name": "python",
   "nbconvert_exporter": "python",
   "pygments_lexer": "ipython3",
   "version": "3.12.1"
  }
 },
 "nbformat": 4,
 "nbformat_minor": 2
}
