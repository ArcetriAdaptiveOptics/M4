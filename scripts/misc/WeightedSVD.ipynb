{
 "cells": [
  {
   "cell_type": "markdown",
   "id": "cf991bb8-cf96-4f4e-8d2e-d2bab84c3109",
   "metadata": {},
   "source": [
    "*Summary*\n",
    "*  Load intamt data\n",
    "*  Load Optical system sensitivity matrix\n",
    "*  Perform standard SVD\n",
    "*  Perform weighted SVD with weight 1\n",
    "*  Compute sensitivity matrix using Negro84\n",
    "*  Perform weighted SVD with weight from Negro84"
   ]
  },
  {
   "cell_type": "code",
   "execution_count": 1,
   "id": "71108f04-6dfc-4236-9c45-2f7a5af51c93",
   "metadata": {},
   "outputs": [
    {
     "name": "stdout",
     "output_type": "stream",
     "text": [
      "Filename: /mnt/backup/Archeopterix_20230517/Data/M4Data/OPTData/AlignmentCalibration/20231027_131458/InteractionMatrix.fits\n",
      "No.    Name      Ver    Type      Cards   Dimensions   Format\n",
      "  0  PRIMARY       1 PrimaryHDU       6   (5, 5)   float64   \n",
      "[[ 1.44088195e-06  9.67534586e-07  2.49883260e-06 -6.82447711e-08\n",
      "  -5.21315103e-06]\n",
      " [ 2.86763347e-06 -2.26710251e-07  9.08480748e-08  5.26010099e-06\n",
      "   1.83622134e-07]\n",
      " [-4.17338981e-06 -2.28239038e-08 -1.06233891e-09  1.79571340e-09\n",
      "   2.68695659e-09]\n",
      " [-1.64168925e-08 -4.22736603e-07 -3.85898533e-10 -8.17783484e-09\n",
      "  -8.09193896e-09]\n",
      " [-3.61584811e-09 -5.00704711e-09  4.28077107e-07 -5.88519959e-09\n",
      "  -5.64479555e-09]]\n"
     ]
    }
   ],
   "source": [
    "#laod liraries and data\n",
    "from arte.utils.zernike_projection_on_subaperture import ZernikeProjectionOnSubaperture\n",
    "from astropy.io import fits\n",
    "import numpy as np\n",
    "IMfile=\"/mnt/backup/Archeopterix_20230517/Data/M4Data/OPTData/AlignmentCalibration/20231027_131458/InteractionMatrix.fits\"\n",
    "hdul = fits.open(IMfile)\n",
    "hdul.info()\n",
    "IMat=hdul[0].data.copy()\n",
    "print(IMat)\n",
    "hdul.close()"
   ]
  },
  {
   "cell_type": "code",
   "execution_count": 2,
   "id": "6bfaffca-7168-475b-a486-212af19e3a74",
   "metadata": {},
   "outputs": [
    {
     "name": "stdout",
     "output_type": "stream",
     "text": [
      "[[ 0.429  0.     0.     0.     0.     0.     0.     0.     0.     0.   ]\n",
      " [ 0.     0.429  0.     0.     0.     0.     0.     0.     0.     0.   ]\n",
      " [ 0.318  0.     0.184  0.     0.     0.     0.     0.     0.     0.   ]\n",
      " [ 0.     0.225  0.     0.184  0.     0.     0.     0.     0.     0.   ]\n",
      " [ 0.225 -0.     0.     0.     0.184  0.     0.     0.     0.     0.   ]\n",
      " [ 0.    -0.906  0.     0.136 -0.     0.079  0.     0.     0.     0.   ]\n",
      " [-0.739  0.     0.193  0.     0.136  0.     0.079  0.     0.     0.   ]\n",
      " [ 0.     0.083  0.     0.136  0.     0.     0.     0.079  0.     0.   ]\n",
      " [ 0.083 -0.     0.    -0.     0.136  0.     0.     0.     0.079  0.   ]\n",
      " [-0.817 -0.    -0.45   0.     0.092  0.     0.107  0.     0.     0.034]]\n"
     ]
    }
   ],
   "source": [
    "#Simulate M4 case sub-pupil\n",
    "pupilRadiusInMeter = 0.7\n",
    "subapsRadiusInMeter = 0.3\n",
    "subapOffAxisRadiusInMeter = 0.15\n",
    "subapOffAxisAzimuthInDegrees = 0\n",
    "Zproj = ZernikeProjectionOnSubaperture(pupilRadiusInMeter,subapsRadiusInMeter,subapOffAxisRadiusInMeter,subapOffAxisAzimuthInDegrees)\n",
    "S = Zproj.get_projection_matrix()\n",
    "with np.printoptions(precision=3):\n",
    "    print(S)"
   ]
  },
  {
   "cell_type": "code",
   "execution_count": 13,
   "id": "93fb16c8-e5eb-4e34-92ce-b14e7f89e2df",
   "metadata": {},
   "outputs": [],
   "source": [
    "RMat = np.linalg.pinv(IMat)\n",
    "W = np.linalg.inv(S.T @ S.T)"
   ]
  },
  {
   "cell_type": "code",
   "execution_count": 15,
   "id": "883f5833-54dd-4e46-9c0e-e679c5004eed",
   "metadata": {},
   "outputs": [
    {
     "name": "stdout",
     "output_type": "stream",
     "text": [
      "[[ 12581.     -0. -12658.     -0.  -1963.     -0.   4717.     -0.     31.\n",
      "   -3136.]\n",
      " [    -0.   1031.     -0.   -339.     -0.    404.     -0.     31.     -0.\n",
      "      -0.]\n",
      " [-12658.      0.  13387.      0.   1837.      0.  -4781.      0.      0.\n",
      "    3403.]\n",
      " [     0.   -339.      0.    207.      0.   -120.      0.   -120.      0.\n",
      "       0.]\n",
      " [ -1963.      0.   1837.      0.    430.      0.   -719.      0.   -120.\n",
      "     442.]\n",
      " [     0.    404.      0.   -120.      0.    161.      0.      0.      0.\n",
      "       0.]\n",
      " [  4717.      0.  -4781.      0.   -719.      0.   1775.      0.     -0.\n",
      "   -1191.]\n",
      " [     0.     31.      0.   -120.      0.      0.      0.    161.      0.\n",
      "       0.]\n",
      " [    31.      0.     -0.      0.   -120.      0.      0.      0.    161.\n",
      "      -0.]\n",
      " [ -3136.      0.   3403.      0.    442.      0.  -1191.      0.      0.\n",
      "     879.]]\n"
     ]
    }
   ],
   "source": [
    "with np.printoptions(precision=0, suppress=True):\n",
    "    print(W)"
   ]
  },
  {
   "cell_type": "code",
   "execution_count": null,
   "id": "3508350d-30e5-4795-97d9-5ecd58aa8c10",
   "metadata": {},
   "outputs": [],
   "source": []
  }
 ],
 "metadata": {
  "kernelspec": {
   "display_name": "Python 3 (ipykernel)",
   "language": "python",
   "name": "python3"
  },
  "language_info": {
   "codemirror_mode": {
    "name": "ipython",
    "version": 3
   },
   "file_extension": ".py",
   "mimetype": "text/x-python",
   "name": "python",
   "nbconvert_exporter": "python",
   "pygments_lexer": "ipython3",
   "version": "3.10.12"
  }
 },
 "nbformat": 4,
 "nbformat_minor": 5
}
